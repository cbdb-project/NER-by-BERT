{
 "cells": [
  {
   "cell_type": "code",
   "execution_count": 2,
   "metadata": {
    "collapsed": false
   },
   "outputs": [
    {
     "name": "stdout",
     "output_type": "stream",
     "text": [
      "dataset.tsv\r\n"
     ]
    }
   ],
   "source": [
    "# 查看当前挂载的数据集目录, 该目录下的变更重启环境后会自动还原\n",
    "# View dataset directory. This directory will be recovered automatically after resetting environment. \n",
    "!ls /home/aistudio/data"
   ]
  },
  {
   "cell_type": "code",
   "execution_count": 3,
   "metadata": {
    "collapsed": false
   },
   "outputs": [],
   "source": [
    "# 查看工作区文件, 该目录下的变更将会持久保存. 请及时清理不必要的文件, 避免加载过慢.\n",
    "# View personal work directory. All changes under this directory will be kept even after reset. Please clean unnecessary files in time to speed up environment loading.\n",
    "!ls /home/aistudio/work"
   ]
  },
  {
   "cell_type": "code",
   "execution_count": 4,
   "metadata": {
    "collapsed": false
   },
   "outputs": [
    {
     "name": "stdout",
     "output_type": "stream",
     "text": [
      "Looking in indexes: https://mirror.baidu.com/pypi/simple/\n",
      "Collecting beautifulsoup4\n",
      "\u001b[?25l  Downloading https://mirror.baidu.com/pypi/packages/d1/41/e6495bd7d3781cee623ce23ea6ac73282a373088fcd0ddc809a047b18eae/beautifulsoup4-4.9.3-py3-none-any.whl (115kB)\n",
      "\u001b[K     |████████████████████████████████| 122kB 12.6MB/s eta 0:00:01\n",
      "\u001b[?25hCollecting soupsieve>1.2; python_version >= \"3.0\" (from beautifulsoup4)\n",
      "  Downloading https://mirror.baidu.com/pypi/packages/6f/8f/457f4a5390eeae1cc3aeab89deb7724c965be841ffca6cfca9197482e470/soupsieve-2.0.1-py3-none-any.whl\n",
      "Installing collected packages: soupsieve, beautifulsoup4\n",
      "Successfully installed beautifulsoup4-4.9.3 soupsieve-2.0.1\n"
     ]
    }
   ],
   "source": [
    "# 如果需要进行持久化安装, 需要使用持久化路径, 如下方代码示例:\n",
    "# If a persistence installation is required, you need to use the persistence path as the following:\n",
    "!mkdir /home/aistudio/external-libraries\n",
    "!pip install beautifulsoup4 -t /home/aistudio/external-libraries"
   ]
  },
  {
   "cell_type": "code",
   "execution_count": 5,
   "metadata": {
    "collapsed": false
   },
   "outputs": [],
   "source": [
    "# 同时添加如下代码, 这样每次环境(kernel)启动的时候只要运行下方代码即可:\r\n",
    "# Also add the following code, so that every time the environment (kernel) starts, just run the following code:\r\n",
    "import sys\r\n",
    "sys.path.append('/home/aistudio/external-libraries')"
   ]
  },
  {
   "cell_type": "code",
   "execution_count": 1,
   "metadata": {
    "collapsed": false
   },
   "outputs": [
    {
     "name": "stdout",
     "output_type": "stream",
     "text": [
      "Looking in indexes: https://mirror.baidu.com/pypi/simple/\n",
      "Collecting paddlehub==1.8.2\n",
      "\u001b[?25l  Downloading https://mirror.baidu.com/pypi/packages/b8/8d/46b67feae675d0ac106234b3c5806ba6198719fe850d61381c3311cdea6c/paddlehub-1.8.2-py3-none-any.whl (336kB)\n",
      "\u001b[K     |████████████████████████████████| 337kB 14.0MB/s eta 0:00:01\n",
      "\u001b[?25hRequirement already satisfied: cma>=2.7.0 in /opt/conda/envs/python35-paddle120-env/lib/python3.7/site-packages (from paddlehub==1.8.2) (2.7.0)\n",
      "Requirement already satisfied: yapf==0.26.0 in /opt/conda/envs/python35-paddle120-env/lib/python3.7/site-packages (from paddlehub==1.8.2) (0.26.0)\n",
      "Requirement already satisfied: protobuf>=3.6.0 in /opt/conda/envs/python35-paddle120-env/lib/python3.7/site-packages (from paddlehub==1.8.2) (3.14.0)\n",
      "Requirement already satisfied: sentencepiece in /opt/conda/envs/python35-paddle120-env/lib/python3.7/site-packages (from paddlehub==1.8.2) (0.1.85)\n",
      "Requirement already satisfied: visualdl in /opt/conda/envs/python35-paddle120-env/lib/python3.7/site-packages (from paddlehub==1.8.2) (2.1.1)\n",
      "Requirement already satisfied: six>=1.10.0 in /opt/conda/envs/python35-paddle120-env/lib/python3.7/site-packages (from paddlehub==1.8.2) (1.15.0)\n",
      "Requirement already satisfied: colorlog in /opt/conda/envs/python35-paddle120-env/lib/python3.7/site-packages (from paddlehub==1.8.2) (4.1.0)\n",
      "Requirement already satisfied: tqdm in /opt/conda/envs/python35-paddle120-env/lib/python3.7/site-packages (from paddlehub==1.8.2) (4.36.1)\n",
      "Requirement already satisfied: gunicorn>=19.10.0; sys_platform != \"win32\" in /opt/conda/envs/python35-paddle120-env/lib/python3.7/site-packages (from paddlehub==1.8.2) (20.0.4)\n",
      "Requirement already satisfied: nltk in /opt/conda/envs/python35-paddle120-env/lib/python3.7/site-packages (from paddlehub==1.8.2) (3.4.5)\n",
      "Requirement already satisfied: flask>=1.1.0 in /opt/conda/envs/python35-paddle120-env/lib/python3.7/site-packages (from paddlehub==1.8.2) (1.1.1)\n",
      "Requirement already satisfied: pandas; python_version >= \"3\" in /opt/conda/envs/python35-paddle120-env/lib/python3.7/site-packages (from paddlehub==1.8.2) (1.1.5)\n",
      "Requirement already satisfied: flake8 in /opt/conda/envs/python35-paddle120-env/lib/python3.7/site-packages (from paddlehub==1.8.2) (3.8.2)\n",
      "Requirement already satisfied: pre-commit in /opt/conda/envs/python35-paddle120-env/lib/python3.7/site-packages (from paddlehub==1.8.2) (1.21.0)\n",
      "Requirement already satisfied: requests in /opt/conda/envs/python35-paddle120-env/lib/python3.7/site-packages (from visualdl->paddlehub==1.8.2) (2.22.0)\n",
      "Requirement already satisfied: Flask-Babel>=1.0.0 in /opt/conda/envs/python35-paddle120-env/lib/python3.7/site-packages (from visualdl->paddlehub==1.8.2) (1.0.0)\n",
      "Requirement already satisfied: shellcheck-py in /opt/conda/envs/python35-paddle120-env/lib/python3.7/site-packages (from visualdl->paddlehub==1.8.2) (0.7.1.1)\n",
      "Requirement already satisfied: bce-python-sdk in /opt/conda/envs/python35-paddle120-env/lib/python3.7/site-packages (from visualdl->paddlehub==1.8.2) (0.8.53)\n",
      "Requirement already satisfied: Pillow>=7.0.0 in /opt/conda/envs/python35-paddle120-env/lib/python3.7/site-packages (from visualdl->paddlehub==1.8.2) (7.1.2)\n",
      "Requirement already satisfied: numpy in /opt/conda/envs/python35-paddle120-env/lib/python3.7/site-packages (from visualdl->paddlehub==1.8.2) (1.16.4)\n",
      "Requirement already satisfied: setuptools>=3.0 in /opt/conda/envs/python35-paddle120-env/lib/python3.7/site-packages (from gunicorn>=19.10.0; sys_platform != \"win32\"->paddlehub==1.8.2) (41.4.0)\n",
      "Requirement already satisfied: Werkzeug>=0.15 in /opt/conda/envs/python35-paddle120-env/lib/python3.7/site-packages (from flask>=1.1.0->paddlehub==1.8.2) (0.16.0)\n",
      "Requirement already satisfied: itsdangerous>=0.24 in /opt/conda/envs/python35-paddle120-env/lib/python3.7/site-packages (from flask>=1.1.0->paddlehub==1.8.2) (1.1.0)\n",
      "Requirement already satisfied: click>=5.1 in /opt/conda/envs/python35-paddle120-env/lib/python3.7/site-packages (from flask>=1.1.0->paddlehub==1.8.2) (7.0)\n",
      "Requirement already satisfied: Jinja2>=2.10.1 in /opt/conda/envs/python35-paddle120-env/lib/python3.7/site-packages (from flask>=1.1.0->paddlehub==1.8.2) (2.10.1)\n",
      "Requirement already satisfied: pytz>=2017.2 in /opt/conda/envs/python35-paddle120-env/lib/python3.7/site-packages (from pandas; python_version >= \"3\"->paddlehub==1.8.2) (2019.3)\n",
      "Requirement already satisfied: python-dateutil>=2.7.3 in /opt/conda/envs/python35-paddle120-env/lib/python3.7/site-packages (from pandas; python_version >= \"3\"->paddlehub==1.8.2) (2.8.0)\n",
      "Requirement already satisfied: mccabe<0.7.0,>=0.6.0 in /opt/conda/envs/python35-paddle120-env/lib/python3.7/site-packages (from flake8->paddlehub==1.8.2) (0.6.1)\n",
      "Requirement already satisfied: importlib-metadata; python_version < \"3.8\" in /opt/conda/envs/python35-paddle120-env/lib/python3.7/site-packages (from flake8->paddlehub==1.8.2) (0.23)\n",
      "Requirement already satisfied: pycodestyle<2.7.0,>=2.6.0a1 in /opt/conda/envs/python35-paddle120-env/lib/python3.7/site-packages (from flake8->paddlehub==1.8.2) (2.6.0)\n",
      "Requirement already satisfied: pyflakes<2.3.0,>=2.2.0 in /opt/conda/envs/python35-paddle120-env/lib/python3.7/site-packages (from flake8->paddlehub==1.8.2) (2.2.0)\n",
      "Requirement already satisfied: toml in /opt/conda/envs/python35-paddle120-env/lib/python3.7/site-packages (from pre-commit->paddlehub==1.8.2) (0.10.0)\n",
      "Requirement already satisfied: cfgv>=2.0.0 in /opt/conda/envs/python35-paddle120-env/lib/python3.7/site-packages (from pre-commit->paddlehub==1.8.2) (2.0.1)\n",
      "Requirement already satisfied: aspy.yaml in /opt/conda/envs/python35-paddle120-env/lib/python3.7/site-packages (from pre-commit->paddlehub==1.8.2) (1.3.0)\n",
      "Requirement already satisfied: nodeenv>=0.11.1 in /opt/conda/envs/python35-paddle120-env/lib/python3.7/site-packages (from pre-commit->paddlehub==1.8.2) (1.3.4)\n",
      "Requirement already satisfied: virtualenv>=15.2 in /opt/conda/envs/python35-paddle120-env/lib/python3.7/site-packages (from pre-commit->paddlehub==1.8.2) (16.7.9)\n",
      "Requirement already satisfied: pyyaml in /opt/conda/envs/python35-paddle120-env/lib/python3.7/site-packages (from pre-commit->paddlehub==1.8.2) (5.1.2)\n",
      "Requirement already satisfied: identify>=1.0.0 in /opt/conda/envs/python35-paddle120-env/lib/python3.7/site-packages (from pre-commit->paddlehub==1.8.2) (1.4.10)\n",
      "Requirement already satisfied: chardet<3.1.0,>=3.0.2 in /opt/conda/envs/python35-paddle120-env/lib/python3.7/site-packages (from requests->visualdl->paddlehub==1.8.2) (3.0.4)\n",
      "Requirement already satisfied: certifi>=2017.4.17 in /opt/conda/envs/python35-paddle120-env/lib/python3.7/site-packages (from requests->visualdl->paddlehub==1.8.2) (2019.9.11)\n",
      "Requirement already satisfied: urllib3!=1.25.0,!=1.25.1,<1.26,>=1.21.1 in /opt/conda/envs/python35-paddle120-env/lib/python3.7/site-packages (from requests->visualdl->paddlehub==1.8.2) (1.25.6)\n",
      "Requirement already satisfied: idna<2.9,>=2.5 in /opt/conda/envs/python35-paddle120-env/lib/python3.7/site-packages (from requests->visualdl->paddlehub==1.8.2) (2.8)\n",
      "Requirement already satisfied: Babel>=2.3 in /opt/conda/envs/python35-paddle120-env/lib/python3.7/site-packages (from Flask-Babel>=1.0.0->visualdl->paddlehub==1.8.2) (2.8.0)\n",
      "Requirement already satisfied: pycryptodome>=3.8.0 in /opt/conda/envs/python35-paddle120-env/lib/python3.7/site-packages (from bce-python-sdk->visualdl->paddlehub==1.8.2) (3.9.9)\n",
      "Requirement already satisfied: future>=0.6.0 in /opt/conda/envs/python35-paddle120-env/lib/python3.7/site-packages (from bce-python-sdk->visualdl->paddlehub==1.8.2) (0.18.0)\n",
      "Requirement already satisfied: MarkupSafe>=0.23 in /opt/conda/envs/python35-paddle120-env/lib/python3.7/site-packages (from Jinja2>=2.10.1->flask>=1.1.0->paddlehub==1.8.2) (1.1.1)\n",
      "Requirement already satisfied: zipp>=0.5 in /opt/conda/envs/python35-paddle120-env/lib/python3.7/site-packages (from importlib-metadata; python_version < \"3.8\"->flake8->paddlehub==1.8.2) (0.6.0)\n",
      "Requirement already satisfied: more-itertools in /opt/conda/envs/python35-paddle120-env/lib/python3.7/site-packages (from zipp>=0.5->importlib-metadata; python_version < \"3.8\"->flake8->paddlehub==1.8.2) (7.2.0)\n",
      "Installing collected packages: paddlehub\n",
      "  Found existing installation: paddlehub 2.0.4\n",
      "    Uninstalling paddlehub-2.0.4:\n",
      "      Successfully uninstalled paddlehub-2.0.4\n",
      "Successfully installed paddlehub-1.8.2\n"
     ]
    }
   ],
   "source": [
    "!pip install paddlehub==1.8.2\r\n",
    "import paddlehub as hub"
   ]
  },
  {
   "cell_type": "code",
   "execution_count": 2,
   "metadata": {
    "collapsed": false
   },
   "outputs": [],
   "source": [
    "import numpy as np\r\n",
    "import pandas as pd\r\n",
    "import json\r\n",
    "import time\r\n",
    "import re"
   ]
  },
  {
   "cell_type": "code",
   "execution_count": 3,
   "metadata": {
    "collapsed": false
   },
   "outputs": [
    {
     "name": "stderr",
     "output_type": "stream",
     "text": [
      "[2021-03-12 10:17:42,212] [    INFO] - Installing bert_chinese_L-12_H-768_A-12 module\n"
     ]
    },
    {
     "name": "stdout",
     "output_type": "stream",
     "text": [
      "Downloading bert_chinese_L-12_H-768_A-12\n",
      "[==================================================] 100.00%\n",
      "Uncompress /home/aistudio/.paddlehub/tmp/tmp97cr5aeb/bert_chinese_L-12_H-768_A-12\n",
      "[==================================================] 100.00%\n"
     ]
    },
    {
     "name": "stderr",
     "output_type": "stream",
     "text": [
      "[2021-03-12 10:18:05,722] [    INFO] - Successfully installed bert_chinese_L-12_H-768_A-12-1.1.0\n"
     ]
    }
   ],
   "source": [
    "model=hub.Module(name=\"bert_chinese_L-12_H-768_A-12\")"
   ]
  },
  {
   "cell_type": "code",
   "execution_count": 4,
   "metadata": {
    "collapsed": false
   },
   "outputs": [],
   "source": [
    "# data in result.json is the labeled ming data\r\n",
    "with open('/home/aistudio/result.json') as jf:\r\n",
    "    ming=json.load(jf)\r\n",
    "\r\n",
    "\r\n",
    "#unpack .json file, wash the data and transfer them into ndarray\r\n",
    "def dataGen(ming):\r\n",
    "    person_ids=np.array(list(ming.keys()))\r\n",
    "    person_ids.sort()\r\n",
    "\r\n",
    "    #idNum=len(person_ids)\r\n",
    "\r\n",
    "    x_data=[]\r\n",
    "    y_data=[]\r\n",
    "\r\n",
    "    indexer=0\r\n",
    "    for person_id in person_ids:\r\n",
    "        \r\n",
    "        char_tag=ming[person_id]['char_tag']\r\n",
    "        x_data.append([])\r\n",
    "        y_data.append([])\r\n",
    "        omit_len=len(person_id)\r\n",
    "        for i in range(omit_len+1,len(char_tag)):\r\n",
    "            x_data[indexer].append(char_tag[i][0])\r\n",
    "            y_data[indexer].append(char_tag[i][1])\r\n",
    "         \r\n",
    "        indexer=indexer+1\r\n",
    "\r\n",
    "    for i in range(0,len(y_data)):\r\n",
    "      for j in range(0,len(y_data[i])):\r\n",
    "        old_text=y_data[i][j]\r\n",
    "        #convert labels like 'B_date_reign' into 'B-date-reign', which is readable by kashgari\r\n",
    "        new_text=old_text.replace(\"_\",\"-\")\r\n",
    "        y_data[i][j]=new_text\r\n",
    "\r\n",
    "\r\n",
    "    return x_data,y_data,person_ids\r\n",
    "\r\n",
    "\r\n",
    "#construct train,validate and test set\r\n",
    "#train_set_rate indicates the proportion of trainning data\r\n",
    "#validate_set_rate indicates the proportion of validation data\r\n",
    "def splitTrain(x_data,y_data,person_ids,train_set_rate,validate_set_rate):\r\n",
    "    x_data=np.array(x_data)\r\n",
    "    y_data=np.array(y_data)\r\n",
    "    \r\n",
    "    temp=np.array([x_data,y_data])\r\n",
    "    temp=temp.T\r\n",
    "    \r\n",
    "    ming_data=pd.DataFrame(temp,index=person_ids,columns=['text_a','label'])\r\n",
    "\r\n",
    "    #test on converting data 2 tsv\r\n",
    "    for i in range(0,len(ming_data['text_a'])):\r\n",
    "        #print(i)\r\n",
    "        ming_data['text_a'][i]='\\002'.join(ming_data['text_a'][i])\r\n",
    "        ming_data['label'][i]='\\002'.join(ming_data['label'][i])\r\n",
    "        ##ming_data['text_a'][i]+='\\002'\r\n",
    "        ##ming_data['label'][i]+='\\002'\r\n",
    "        #ming_data['text_a'][i]=str(ming_data['text_a'][i])\r\n",
    "        #ming_data['label'][i]=str(ming_data['label'][i])\r\n",
    "        \r\n",
    "        \r\n",
    "\r\n",
    "    np.random.seed(int(time.time()))\r\n",
    "    ming_data=ming_data.sample(frac=1.0)\r\n",
    "    \r\n",
    "    idNum=len(person_ids)\r\n",
    "    train_size=int(np.floor(idNum*train_set_rate))\r\n",
    "    validate_size=int(np.floor(idNum*validate_set_rate))\r\n",
    "\r\n",
    "    train_set=ming_data[0:train_size]\r\n",
    "\r\n",
    "    validate_set=ming_data[train_size:train_size+validate_size]\r\n",
    "    test_set=ming_data[train_size+validate_size:idNum]\r\n",
    "    return train_set,validate_set,test_set,ming_data\r\n",
    "\r\n",
    "\r\n",
    "#Build the first model: 50% of ming as train and 20% of ming as test\r\n",
    "x_data,y_data,person_ids=dataGen(ming)\r\n",
    "t,v,testing,ming_data=splitTrain(x_data,y_data,person_ids,0.75,0.25)\r\n",
    "\r\n",
    "#generate x,y of train,validate and test\r\n",
    "x_train=np.array(t['text_a'])\r\n",
    "y_train=np.array(t['label'])\r\n",
    "x_validate=np.array(v['text_a'])\r\n",
    "y_validate=np.array(v['label'])\r\n",
    "\r\n",
    "x_test=np.array(testing['text_a'])\r\n",
    "y_test=np.array(testing['label'])\r\n",
    "\r\n",
    "t.to_csv('train.csv')\r\n",
    "v.to_csv('validate.csv')\r\n",
    "\r\n",
    "train_len=[]\r\n",
    "for i in range(0,len(x_train)):\r\n",
    "  train_len.append(len(x_train[i]))\r\n",
    "\r\n",
    "max_len=max(train_len)\r\n",
    "\r\n",
    "\r\n",
    "tag_list = tag_list = [\"O\",\r\n",
    "        \"B_date_reign\", \"I_date_reign\",\r\n",
    "        \"B_date_year\", \"I_date_year\",\r\n",
    "        \"B_office_voa\", \"I_office_voa\",\r\n",
    "        \"B_office_title\", \"I_office_title\",\r\n",
    "        \"B_place_placename\", \"I_place_placename\"]"
   ]
  },
  {
   "cell_type": "code",
   "execution_count": 5,
   "metadata": {
    "collapsed": false
   },
   "outputs": [],
   "source": [
    "# Part of Task1: save the data into tsv\r\n",
    "t.to_csv('/home/aistudio/train.tsv',sep='\\t',columns=['text_a','label'],encoding='utf_8_sig',index=None)\r\n",
    "v.to_csv('/home/aistudio/validate.tsv',sep='\\t',columns=['text_a','label'],encoding='utf_8_sig',index=None)\r\n",
    "testing.to_csv('/home/aistudio/testing.tsv',sep='\\t',columns=['text_a','label'],encoding='utf_8_sig',index=None)\r\n",
    "ming_data.to_csv('/home/aistudio/data/dataset.tsv',sep='\\t',columns=['text_a','label'],encoding='utf_8_sig',index=None)\r\n",
    "\r\n",
    "predict_data=pd.read_table('/home/aistudio/test_data.txt')\r\n",
    "text=predict_data['content_without_name']\r\n",
    "text.to_csv('/home/aistudio/predict.tsv',encoding='utf_8_sig')"
   ]
  },
  {
   "cell_type": "code",
   "execution_count": 6,
   "metadata": {
    "collapsed": false
   },
   "outputs": [],
   "source": [
    "bio=predict_data['content_without_name']\r\n",
    "bio_ids=predict_data['id']\r\n"
   ]
  },
  {
   "cell_type": "code",
   "execution_count": 8,
   "metadata": {
    "collapsed": false
   },
   "outputs": [],
   "source": [
    "from paddlehub.dataset.base_nlp_dataset import BaseNLPDataset\r\n",
    "\r\n",
    "# Construct the dataset for task1\r\n",
    "class DemoDataset(BaseNLPDataset):\r\n",
    "    \"\"\"DemoDataset\"\"\"\r\n",
    "    def __init__(self):\r\n",
    "        # 数据集存放位置\r\n",
    "        self.dataset_dir = \"/home/aistudio/\"\r\n",
    "        super(DemoDataset, self).__init__(\r\n",
    "            base_path=self.dataset_dir,\r\n",
    "            train_file=\"train.tsv\",\r\n",
    "            dev_file=\"validate.tsv\",\r\n",
    "            test_file=\"testing.tsv\",\r\n",
    "            # 如果还有预测数据（不需要文本类别label），可以放在predict.tsv\r\n",
    "            predict_file=\"predict.tsv\",\r\n",
    "            train_file_with_header=True,\r\n",
    "            dev_file_with_header=True,\r\n",
    "            test_file_with_header=True,\r\n",
    "            predict_file_with_header=True,\r\n",
    "            # 数据集类别集合\r\n",
    "            label_list=[\"O\",\r\n",
    "        \"B-date-reign\", \"I-date-reign\",\r\n",
    "        \"B-date-year\", \"I-date-year\",\r\n",
    "        \"B-office-voa\", \"I-office-voa\",\r\n",
    "        \"B-office-title\", \"I-office-title\",\r\n",
    "        \"B-place-placename\", \"I-place-placename\"])\r\n",
    "task1_dataset = DemoDataset()"
   ]
  },
  {
   "cell_type": "code",
   "execution_count": 9,
   "metadata": {
    "collapsed": false
   },
   "outputs": [
    {
     "name": "stderr",
     "output_type": "stream",
     "text": [
      "[2021-03-12 10:21:12,291] [    INFO] - Dataset label map = {'O': 0, 'B-date-reign': 1, 'I-date-reign': 2, 'B-date-year': 3, 'I-date-year': 4, 'B-office-voa': 5, 'I-office-voa': 6, 'B-office-title': 7, 'I-office-title': 8, 'B-place-placename': 9, 'I-place-placename': 10}\n",
      "[2021-03-12 10:21:12,340] [    INFO] - Checkpoint dir: chinese_wwm_base_seq_label_demo\n"
     ]
    }
   ],
   "source": [
    "#生成reader，对数据进行预处理\r\n",
    "reader = hub.reader.SequenceLabelReader(\r\n",
    "        dataset=task1_dataset,\r\n",
    "        vocab_path=model.get_vocab_path(),\r\n",
    "        max_seq_len=512)\r\n",
    "\r\n",
    "#选择fine-tune的优化策略\r\n",
    "strategy=hub.AdamWeightDecayStrategy(\r\n",
    "    weight_decay=0.01,\r\n",
    "    learning_rate=1e-4,\r\n",
    "    warmup_proportion=0.1\r\n",
    ")\r\n",
    "\r\n",
    "#定义运行配置\r\n",
    "config=hub.RunConfig(\r\n",
    "    use_cuda=True,\r\n",
    "    num_epoch=80,\r\n",
    "    checkpoint_dir=\"chinese_wwm_base_seq_label_demo\",\r\n",
    "    batch_size=16,\r\n",
    "    eval_interval=50,\r\n",
    "    strategy=strategy\r\n",
    ")"
   ]
  },
  {
   "cell_type": "code",
   "execution_count": 10,
   "metadata": {
    "collapsed": false
   },
   "outputs": [
    {
     "name": "stderr",
     "output_type": "stream",
     "text": [
      "[2021-03-12 10:21:19,732] [ WARNING] - PaddleHub v1.8 has deprecated the reader and feed_list parameters in the nlp Task. We provided an easier usage, in which you can use your tokenizer to preprocess dataset and run task in a clear flow. New demo see https://github.com/PaddlePaddle/PaddleHub/blob/release/v1.8/demo/text_classification/text_cls.py\n"
     ]
    }
   ],
   "source": [
    "#组建fine tune task(for task 1)\r\n",
    "inputs, outputs, program = model.context(\r\n",
    "    trainable=True, max_seq_len=512)\r\n",
    "\r\n",
    "sequence_output=outputs[\"sequence_output\"]\r\n",
    "\r\n",
    "feed_list=[\r\n",
    "    inputs[\"input_ids\"].name,\r\n",
    "    inputs[\"position_ids\"].name,\r\n",
    "    inputs[\"segment_ids\"].name,\r\n",
    "    inputs[\"input_mask\"].name\r\n",
    "]\r\n",
    "\r\n",
    "#请确保paddlehub 版本为1.8.2，否则会报错（parameter has no attribute...)\r\n",
    "seq_label_task1 = hub.SequenceLabelTask(\r\n",
    "    data_reader=reader,\r\n",
    "    feature=sequence_output,\r\n",
    "    feed_list=feed_list,\r\n",
    "    max_seq_len=512,\r\n",
    "    num_classes=task1_dataset.num_labels,\r\n",
    "    config=config,\r\n",
    "    add_crf=True)\r\n"
   ]
  },
  {
   "cell_type": "code",
   "execution_count": 11,
   "metadata": {
    "collapsed": false
   },
   "outputs": [
    {
     "name": "stderr",
     "output_type": "stream",
     "text": [
      "[2021-03-12 10:21:27,636] [    INFO] - Strategy with warmup, linear decay, slanted triangle learning rate, weight decay regularization, \n",
      "/opt/conda/envs/python35-paddle120-env/lib/python3.7/site-packages/paddle/fluid/executor.py:1093: UserWarning: There are no operators in the program to be executed. If you pass Program manually, please use fluid.program_guard to ensure the current Program is being used.\n",
      "  warnings.warn(error_info)\n",
      "[2021-03-12 10:21:27,724] [    INFO] - Try loading checkpoint from chinese_wwm_base_seq_label_demo/ckpt.meta\n",
      "[2021-03-12 10:21:29,879] [    INFO] - PaddleHub model checkpoint loaded. current_epoch=81, global_step=33280, best_score=0.99820\n",
      "[2021-03-12 10:21:29,881] [    INFO] - PaddleHub finetune start\n",
      "[2021-03-12 10:21:29,883] [    INFO] - PaddleHub finetune finished.\n"
     ]
    }
   ],
   "source": [
    "#执行finetune任务\r\n",
    "#Execute finetune\r\n",
    "task1_rate=seq_label_task1.finetune_and_eval()"
   ]
  },
  {
   "cell_type": "code",
   "execution_count": 12,
   "metadata": {
    "collapsed": false
   },
   "outputs": [
    {
     "name": "stdout",
     "output_type": "stream",
     "text": [
      "done\n"
     ]
    }
   ],
   "source": [
    "#执行预测任务\r\n",
    "#Execute predict task\r\n",
    "#import test_data to predict\r\n",
    "predict=[predict_data['content_without_name']]\r\n",
    "predict=[]\r\n",
    "for i in range(0,len(predict_data['content_without_name'])):\r\n",
    "    predict.append([predict_data['content_without_name'][i]])\r\n",
    "\r\n",
    "print('done')\r\n",
    "\r\n",
    "#pred=seq_label_task_1.predict(data=predict_data['content_without_name'])"
   ]
  },
  {
   "cell_type": "code",
   "execution_count": 13,
   "metadata": {
    "collapsed": false
   },
   "outputs": [
    {
     "name": "stderr",
     "output_type": "stream",
     "text": [
      "[2021-03-12 10:21:38,042] [    INFO] - PaddleHub predict start\n",
      "[2021-03-12 10:21:38,044] [    INFO] - Load the best model from chinese_wwm_base_seq_label_demo/best_model\n",
      "/opt/conda/envs/python35-paddle120-env/lib/python3.7/site-packages/paddle/fluid/executor.py:1093: UserWarning: There are no operators in the program to be executed. If you pass Program manually, please use fluid.program_guard to ensure the current Program is being used.\n",
      "  warnings.warn(error_info)\n",
      "[2021-03-12 10:23:02,476] [    INFO] - PaddleHub predict finished.\n"
     ]
    }
   ],
   "source": [
    "#predict\r\n",
    "pred=seq_label_task1.predict(data=predict)"
   ]
  },
  {
   "cell_type": "code",
   "execution_count": 14,
   "metadata": {
    "collapsed": false
   },
   "outputs": [],
   "source": [
    "# The output of paddlehub is written in a strange order\r\n",
    "# The following codes convert the output labels into readable tags\r\n",
    "results=[p.run_results for p in pred]\r\n",
    "\r\n",
    "inv_label_map={0:'O',1:'B-date-reign',2:'I-date-reign',3:'B-date-year',4:'I-date-year',\r\n",
    "5:'B-office-voa',6:'I-office-voa',7:'B-office-title',8:'I-office-title',9:'B-place-placename',\r\n",
    "10:'I-place-placename'}\r\n",
    "\r\n",
    "tags=[]\r\n",
    "\r\n",
    "for num_batch, batch_results in enumerate(results):\r\n",
    "    infers = batch_results[0].reshape([-1]).astype(np.int32).tolist()\r\n",
    "    \r\n",
    "    #acquire the length of each text in batch #num_batch\r\n",
    "    np_lens = batch_results[1]\r\n",
    "    \r\n",
    "    \r\n",
    "    vernier=0\r\n",
    "\r\n",
    "    for index, np_len in enumerate(np_lens):\r\n",
    "        \r\n",
    "        #labels = infers[index * 400:(index + 1) * 400]\r\n",
    "        labels=infers[vernier:vernier+np_len]\r\n",
    "        vernier=vernier+np_len\r\n",
    "\r\n",
    "        label_str = []\r\n",
    "        count = 0\r\n",
    "        for label_val in labels:\r\n",
    "            label_str.append(inv_label_map[label_val])\r\n",
    "            count += 1\r\n",
    "            if count == np_len-1:\r\n",
    "                break\r\n",
    "        tags.append(label_str)\r\n",
    "\r\n",
    "\r\n",
    "for i in range(0,len(tags)):\r\n",
    "    #print(i)\r\n",
    "    tags[i]=tags[i][1:len(tags[i])]"
   ]
  },
  {
   "cell_type": "code",
   "execution_count": 16,
   "metadata": {
    "collapsed": false
   },
   "outputs": [
    {
     "name": "stdout",
     "output_type": "stream",
     "text": [
      "0\n"
     ]
    },
    {
     "ename": "FileNotFoundError",
     "evalue": "[Errno 2] No such file or directory: '/home/aistudio/jin_ner_0312/1.txt'",
     "output_type": "error",
     "traceback": [
      "\u001b[0;31m---------------------------------------------------------------------------\u001b[0m",
      "\u001b[0;31mFileNotFoundError\u001b[0m                         Traceback (most recent call last)",
      "\u001b[0;32m<ipython-input-16-4c22714713c2>\u001b[0m in \u001b[0;36m<module>\u001b[0;34m\u001b[0m\n\u001b[1;32m     12\u001b[0m     \u001b[0mner_result\u001b[0m\u001b[0;34m=\u001b[0m\u001b[0;34m{\u001b[0m\u001b[0;34m'char'\u001b[0m\u001b[0;34m:\u001b[0m\u001b[0mlist\u001b[0m\u001b[0;34m(\u001b[0m\u001b[0mtext\u001b[0m\u001b[0;34m[\u001b[0m\u001b[0mi\u001b[0m\u001b[0;34m]\u001b[0m\u001b[0;34m)\u001b[0m\u001b[0;34m,\u001b[0m\u001b[0;34m'tag'\u001b[0m\u001b[0;34m:\u001b[0m\u001b[0mlist\u001b[0m\u001b[0;34m(\u001b[0m\u001b[0mtags\u001b[0m\u001b[0;34m[\u001b[0m\u001b[0mi\u001b[0m\u001b[0;34m]\u001b[0m\u001b[0;34m)\u001b[0m\u001b[0;34m}\u001b[0m\u001b[0;34m\u001b[0m\u001b[0;34m\u001b[0m\u001b[0m\n\u001b[1;32m     13\u001b[0m     \u001b[0mframe\u001b[0m\u001b[0;34m=\u001b[0m\u001b[0mpd\u001b[0m\u001b[0;34m.\u001b[0m\u001b[0mDataFrame\u001b[0m\u001b[0;34m(\u001b[0m\u001b[0mner_result\u001b[0m\u001b[0;34m,\u001b[0m\u001b[0mcolumns\u001b[0m\u001b[0;34m=\u001b[0m\u001b[0;34m[\u001b[0m\u001b[0;34m'char'\u001b[0m\u001b[0;34m,\u001b[0m\u001b[0;34m'tag'\u001b[0m\u001b[0;34m]\u001b[0m\u001b[0;34m)\u001b[0m\u001b[0;34m\u001b[0m\u001b[0;34m\u001b[0m\u001b[0m\n\u001b[0;32m---> 14\u001b[0;31m     \u001b[0mframe\u001b[0m\u001b[0;34m.\u001b[0m\u001b[0mto_csv\u001b[0m\u001b[0;34m(\u001b[0m\u001b[0;34m'/home/aistudio/jin_ner_0312/'\u001b[0m\u001b[0;34m+\u001b[0m\u001b[0mstr\u001b[0m\u001b[0;34m(\u001b[0m\u001b[0mbio_ids\u001b[0m\u001b[0;34m[\u001b[0m\u001b[0mi\u001b[0m\u001b[0;34m]\u001b[0m\u001b[0;34m)\u001b[0m\u001b[0;34m+\u001b[0m\u001b[0;34m'.txt'\u001b[0m\u001b[0;34m,\u001b[0m\u001b[0msep\u001b[0m\u001b[0;34m=\u001b[0m\u001b[0;34m\" \"\u001b[0m\u001b[0;34m)\u001b[0m\u001b[0;34m\u001b[0m\u001b[0;34m\u001b[0m\u001b[0m\n\u001b[0m",
      "\u001b[0;32m/opt/conda/envs/python35-paddle120-env/lib/python3.7/site-packages/pandas/core/generic.py\u001b[0m in \u001b[0;36mto_csv\u001b[0;34m(self, path_or_buf, sep, na_rep, float_format, columns, header, index, index_label, mode, encoding, compression, quoting, quotechar, line_terminator, chunksize, date_format, doublequote, escapechar, decimal, errors)\u001b[0m\n\u001b[1;32m   3168\u001b[0m             \u001b[0mdecimal\u001b[0m\u001b[0;34m=\u001b[0m\u001b[0mdecimal\u001b[0m\u001b[0;34m,\u001b[0m\u001b[0;34m\u001b[0m\u001b[0;34m\u001b[0m\u001b[0m\n\u001b[1;32m   3169\u001b[0m         )\n\u001b[0;32m-> 3170\u001b[0;31m         \u001b[0mformatter\u001b[0m\u001b[0;34m.\u001b[0m\u001b[0msave\u001b[0m\u001b[0;34m(\u001b[0m\u001b[0;34m)\u001b[0m\u001b[0;34m\u001b[0m\u001b[0;34m\u001b[0m\u001b[0m\n\u001b[0m\u001b[1;32m   3171\u001b[0m \u001b[0;34m\u001b[0m\u001b[0m\n\u001b[1;32m   3172\u001b[0m         \u001b[0;32mif\u001b[0m \u001b[0mpath_or_buf\u001b[0m \u001b[0;32mis\u001b[0m \u001b[0;32mNone\u001b[0m\u001b[0;34m:\u001b[0m\u001b[0;34m\u001b[0m\u001b[0;34m\u001b[0m\u001b[0m\n",
      "\u001b[0;32m/opt/conda/envs/python35-paddle120-env/lib/python3.7/site-packages/pandas/io/formats/csvs.py\u001b[0m in \u001b[0;36msave\u001b[0;34m(self)\u001b[0m\n\u001b[1;32m    188\u001b[0m                 \u001b[0mencoding\u001b[0m\u001b[0;34m=\u001b[0m\u001b[0mself\u001b[0m\u001b[0;34m.\u001b[0m\u001b[0mencoding\u001b[0m\u001b[0;34m,\u001b[0m\u001b[0;34m\u001b[0m\u001b[0;34m\u001b[0m\u001b[0m\n\u001b[1;32m    189\u001b[0m                 \u001b[0merrors\u001b[0m\u001b[0;34m=\u001b[0m\u001b[0mself\u001b[0m\u001b[0;34m.\u001b[0m\u001b[0merrors\u001b[0m\u001b[0;34m,\u001b[0m\u001b[0;34m\u001b[0m\u001b[0;34m\u001b[0m\u001b[0m\n\u001b[0;32m--> 190\u001b[0;31m                 \u001b[0mcompression\u001b[0m\u001b[0;34m=\u001b[0m\u001b[0mdict\u001b[0m\u001b[0;34m(\u001b[0m\u001b[0mself\u001b[0m\u001b[0;34m.\u001b[0m\u001b[0mcompression_args\u001b[0m\u001b[0;34m,\u001b[0m \u001b[0mmethod\u001b[0m\u001b[0;34m=\u001b[0m\u001b[0mself\u001b[0m\u001b[0;34m.\u001b[0m\u001b[0mcompression\u001b[0m\u001b[0;34m)\u001b[0m\u001b[0;34m,\u001b[0m\u001b[0;34m\u001b[0m\u001b[0;34m\u001b[0m\u001b[0m\n\u001b[0m\u001b[1;32m    191\u001b[0m             )\n\u001b[1;32m    192\u001b[0m             \u001b[0mclose\u001b[0m \u001b[0;34m=\u001b[0m \u001b[0;32mTrue\u001b[0m\u001b[0;34m\u001b[0m\u001b[0;34m\u001b[0m\u001b[0m\n",
      "\u001b[0;32m/opt/conda/envs/python35-paddle120-env/lib/python3.7/site-packages/pandas/io/common.py\u001b[0m in \u001b[0;36mget_handle\u001b[0;34m(path_or_buf, mode, encoding, compression, memory_map, is_text, errors)\u001b[0m\n\u001b[1;32m    491\u001b[0m         \u001b[0;32mif\u001b[0m \u001b[0mencoding\u001b[0m\u001b[0;34m:\u001b[0m\u001b[0;34m\u001b[0m\u001b[0;34m\u001b[0m\u001b[0m\n\u001b[1;32m    492\u001b[0m             \u001b[0;31m# Encoding\u001b[0m\u001b[0;34m\u001b[0m\u001b[0;34m\u001b[0m\u001b[0;34m\u001b[0m\u001b[0m\n\u001b[0;32m--> 493\u001b[0;31m             \u001b[0mf\u001b[0m \u001b[0;34m=\u001b[0m \u001b[0mopen\u001b[0m\u001b[0;34m(\u001b[0m\u001b[0mpath_or_buf\u001b[0m\u001b[0;34m,\u001b[0m \u001b[0mmode\u001b[0m\u001b[0;34m,\u001b[0m \u001b[0mencoding\u001b[0m\u001b[0;34m=\u001b[0m\u001b[0mencoding\u001b[0m\u001b[0;34m,\u001b[0m \u001b[0merrors\u001b[0m\u001b[0;34m=\u001b[0m\u001b[0merrors\u001b[0m\u001b[0;34m,\u001b[0m \u001b[0mnewline\u001b[0m\u001b[0;34m=\u001b[0m\u001b[0;34m\"\"\u001b[0m\u001b[0;34m)\u001b[0m\u001b[0;34m\u001b[0m\u001b[0;34m\u001b[0m\u001b[0m\n\u001b[0m\u001b[1;32m    494\u001b[0m         \u001b[0;32melif\u001b[0m \u001b[0mis_text\u001b[0m\u001b[0;34m:\u001b[0m\u001b[0;34m\u001b[0m\u001b[0;34m\u001b[0m\u001b[0m\n\u001b[1;32m    495\u001b[0m             \u001b[0;31m# No explicit encoding\u001b[0m\u001b[0;34m\u001b[0m\u001b[0;34m\u001b[0m\u001b[0;34m\u001b[0m\u001b[0m\n",
      "\u001b[0;31mFileNotFoundError\u001b[0m: [Errno 2] No such file or directory: '/home/aistudio/jin_ner_0312/1.txt'"
     ]
    }
   ],
   "source": [
    "text=[]\r\n",
    "\r\n",
    "#Write predicted tags into .txt files\r\n",
    "\r\n",
    "for i in range(0,len(predict)):\r\n",
    "    text.append(predict[i][0])\r\n",
    "\r\n",
    "data={'text':text,'tags_predicted':tags}\r\n",
    "\r\n",
    "frame=pd.DataFrame(data)\r\n",
    "\r\n",
    "for i in range(0,len(text)):\r\n",
    "    print(i)\r\n",
    "    ner_result={'char':list(text[i]),'tag':list(tags[i])}\r\n",
    "    frame=pd.DataFrame(ner_result,columns=['char','tag'])\r\n",
    "    frame.to_csv('/home/aistudio/jin_ner_0203/'+str(bio_ids[i])+'.txt',sep=\" \")"
   ]
  },
  {
   "cell_type": "markdown",
   "metadata": {
    "collapsed": false
   },
   "source": [
    "请点击[此处](https://ai.baidu.com/docs#/AIStudio_Project_Notebook/a38e5576)查看本环境基本用法.  <br>\n",
    "Please click [here ](https://ai.baidu.com/docs#/AIStudio_Project_Notebook/a38e5576) for more detailed instructions. "
   ]
  }
 ],
 "metadata": {
  "kernelspec": {
   "display_name": "PaddlePaddle 1.8.4 (Python 3.5)",
   "language": "python",
   "name": "py35-paddle1.2.0"
  },
  "language_info": {
   "codemirror_mode": {
    "name": "ipython",
    "version": 3
   },
   "file_extension": ".py",
   "mimetype": "text/x-python",
   "name": "python",
   "nbconvert_exporter": "python",
   "pygments_lexer": "ipython3",
   "version": "3.7.4"
  }
 },
 "nbformat": 4,
 "nbformat_minor": 1
}
